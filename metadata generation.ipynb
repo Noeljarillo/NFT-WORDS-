{
 "cells": [
  {
   "cell_type": "code",
   "execution_count": null,
   "metadata": {},
   "outputs": [],
   "source": [
    "## for colab to generate dic metadata \n",
    "\n",
    "import random\n",
    "\n",
    "words = []\n",
    "with open(\"/content/List of words.txt\", \"r\") as fil:\n",
    "  fil = fil.read()\n",
    "  words = fil.split(\"\\n\")\n",
    "## idea add * to subs so filter in python easy\n",
    "\n",
    "subs = [\"made of wire\", \"Surrealist\",  \"psychedelic\", \"CGSociety\"]\n",
    "\n",
    "\n",
    "def cleanin(lis):\n",
    "  lis_clean = []\n",
    "  for element in lis:\n",
    "    if element not in lis_clean:\n",
    "      lis_clean.append(element)\n",
    "  lis = lis_clean    \n",
    "  return lis_clean\n",
    "\n",
    "def mix_lists(prel, subl):\n",
    "  newl=[]\n",
    "  dic={}\n",
    "  count=0\n",
    "  for  element in prel:\n",
    "    newl.append(element + \" \" + subl[0])\n",
    "    newl.append(element + \" \" + subl[1])\n",
    "    newl.append(element + \" \" + subl[2])\n",
    "    newl.append(element + \" \" + subl[3])\n",
    "    dic[count] = {\"name\" : element, \"style\" : subl[0]}\n",
    "    count += 1 \n",
    "    dic[count] = {\"name\" : element, \"style\" : subl[1]}\n",
    "    count +=1\n",
    "    dic[count] = {\"name\" : element, \"style\" : subl[2]}\n",
    "    count += 1 \n",
    "    dic[count] = {\"name\" : element, \"style\" : subl[3]}\n",
    "    count += 1 \n",
    "\n",
    "\n",
    "\n",
    "  print(len(newl))\n",
    "  print(dic)\n",
    "  return newl\n",
    "prompts = mix_lists(words, subs)"
   ]
  },
  {
   "cell_type": "code",
   "execution_count": 23,
   "metadata": {},
   "outputs": [],
   "source": [
    "## batch rename images \n",
    "path = \"./dummmy test/\"\n",
    "import json\n",
    "import os \n",
    "def rename_files_in_directory(directory_path):\n",
    "    files = os.listdir(directory_path)\n",
    "    for i, file in enumerate(files):\n",
    "        os.rename(os.path.join(directory_path, file), os.path.join(directory_path, str(i+1)+ \".png\"))\n"
   ]
  },
  {
   "cell_type": "code",
   "execution_count": null,
   "metadata": {},
   "outputs": [],
   "source": [
    "\n",
    "def create_metadata(path_img):\n",
    "    files = os.listdir(path_img)\n",
    "    \n",
    "    for i, file in enumerate(files):\n",
    "        parts = file.split(\"-\")\n",
    "        word = parts[1].split(\"_\")[0]\n",
    "       # style = parts[1].split(\"_\")[1].split(\".\")[0]\n",
    "        #id = parts[2].split(\".\")[0]\n",
    "        print(word)\n",
    "        #print(style)\n",
    "        print(i)\n",
    "        \n",
    "       \n",
    "\n",
    "create_metadata(\"C:/Users/Noel/Downloads/Stable_Diffusion\")\n",
    "path=\"C:/Users/Noel/Downloads/Stable_Diffusion\""
   ]
  },
  {
   "cell_type": "code",
   "execution_count": 22,
   "metadata": {},
   "outputs": [],
   "source": [
    "#Generate metadata \n",
    "\n",
    "import json\n",
    "\n",
    "\n",
    "def create_metadata(path_img):\n",
    "    files = os.listdir(path_img)\n",
    "    \n",
    "    for i, file in enumerate(files):\n",
    "        parts = file.split(\"-\")\n",
    "        word = parts[1].split(\"_\")[0]\n",
    "        data = {\n",
    "                \"description\": f\"{word}\", \n",
    "                 \"external_url\": \"WEB!!!! ad\", \n",
    "                \"image\": f\"https://gateway.pinata.cloud/ipfs/QmdstfcFp6NsCgZ85P8A7iDuZ9K3iZd1KfaQTqUrDaS1ez/{i}.png\" , \n",
    "                \"name\":  f\"{word}\",\n",
    "                \"id\" : f\"{i}\",\n",
    "                \"attributes\" : [\n",
    "                    {\n",
    "                        \"trait_type\": \"OneBUZ\", \n",
    "                        \"value\": \"Single word\"\n",
    "                    }, \n",
    "                    ]\n",
    "                }   \n",
    "        with open(f\"./dummmy test/dummy data/{i}\", \"w\") as outfile:\n",
    "            json.dump(data, outfile)\n",
    "        \n",
    "create_metadata(path)\n",
    "\n",
    "###TO DO add single logic image, and check what gateway to use"
   ]
  },
  {
   "cell_type": "code",
   "execution_count": null,
   "metadata": {},
   "outputs": [],
   "source": []
  }
 ],
 "metadata": {
  "kernelspec": {
   "display_name": "base",
   "language": "python",
   "name": "python3"
  },
  "language_info": {
   "codemirror_mode": {
    "name": "ipython",
    "version": 3
   },
   "file_extension": ".py",
   "mimetype": "text/x-python",
   "name": "python",
   "nbconvert_exporter": "python",
   "pygments_lexer": "ipython3",
   "version": "3.9.12"
  },
  "orig_nbformat": 4,
  "vscode": {
   "interpreter": {
    "hash": "528b2abc06046716902442f23a73ad52c1ccb8212ba2b3f53ef0e284a157a7a8"
   }
  }
 },
 "nbformat": 4,
 "nbformat_minor": 2
}
